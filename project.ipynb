{
    "cells": [
        {
            "cell_type": "code",
            "execution_count": 1,
            "metadata": {
                "collapsed": true
            },
            "outputs": [],
            "source": [
                "import random\n",
                "import pandas as pd\n",
                "from pathlib import Path\n",
                "from sklearn.metrics import f1_score"
            ]
        },
        {
            "cell_type": "code",
            "execution_count": 3,
            "metadata": {
                "collapsed": true
            },
            "outputs": [],
            "source": [
                "# This is a sample form of the structure of data frame of predictions. Please don't treat this as a solution\n",
                "def model_prediction(test_dir):\n",
                "    # categories\n",
                "    categories = ['Pagodas','Pyramids','Modern','Gothic','Mughal','Neoclassical']\n",
                "\n",
                "    # landmarks\n",
                "    landmarks = [\n",
                "        'TianningTemplePagoda','ThienMuPagoda','GiantWildGoosePagoda','ShwedagonPagoda',\n",
                "        'FogongTemplePagoda','Pyramid of Giza','Pyramid of Djoser','Santa Cecilia Acatitlan Pyramid',\n",
                "        'El Castillo, Chichen Itza','Louvre Pyramid','Chrysler Building','Cathedral of Bras\u00edlia',\n",
                "        'CCTV Headquarters','Hallgr\u00edmskirkja','eiffel','St.VitusCathedral',\n",
                "        'MilanCathedral','ChartresCathedral','CologneCathedral','Notre-DameCathedral',\n",
                "        'Taj Mahal','Tomb of Akbar','Jama Masjid','Tomb of I_timad-ud-Daulah',\n",
                "        'Bibi Ka Maqbara','Buckingham Palace','Concertgebouw',\n",
                "        'Academy of Athens','Panth\u00e9on','Ripon Building','other']\n",
                "    results = []\n",
                "    random.seed(10)\n",
                "    for images in Path(test_dir).glob('*'):\n",
                "        results.append([\n",
                "            images.name, \n",
                "            random.choice(categories), random.random(), \n",
                "            random.choice(landmarks), random.random()])\n",
                "    prediction = pd.DataFrame(\n",
                "        results, \n",
                "        columns = ['image', 'category', 'category_confidence', 'landmark', 'landmark_confidence'])\n",
                "    return prediction #data frame"
            ]
        },
        {
            "cell_type": "code",
            "execution_count": 4,
            "metadata": {
                "collapsed": true,
                "nbgrader": {
                    "grade": true,
                    "grade_id": "Show dataframe",
                    "locked": true,
                    "points": "10",
                    "solution": false
                },
                "editable": false,
                "deletable": false
            },
            "outputs": [],
            "source": [
                "# Run the function of model prediction\n",
                "###\n",
                "### AUTOGRADER TEST - DO NOT REMOVE\n",
                "###\n"
            ]
        },
        {
            "cell_type": "code",
            "execution_count": 5,
            "metadata": {
                "nbgrader": {
                    "grade": true,
                    "grade_id": "Category F1 score",
                    "locked": true,
                    "points": "20",
                    "solution": false
                },
                "editable": false,
                "deletable": false
            },
            "outputs": [],
            "source": [
                "###\n",
                "### AUTOGRADER TEST - DO NOT REMOVE\n",
                "###\n"
            ]
        },
        {
            "cell_type": "code",
            "execution_count": 6,
            "metadata": {
                "nbgrader": {
                    "grade": true,
                    "grade_id": "Landmark F1 score",
                    "locked": true,
                    "points": "20",
                    "solution": false
                },
                "editable": false,
                "deletable": false
            },
            "outputs": [],
            "source": [
                "###\n",
                "### AUTOGRADER TEST - DO NOT REMOVE\n",
                "###\n"
            ]
        },
        {
            "cell_type": "code",
            "execution_count": null,
            "metadata": {
                "collapsed": true
            },
            "outputs": [],
            "source": []
        },
        {
            "cell_type": "code",
            "execution_count": null,
            "metadata": {
                "collapsed": true
            },
            "outputs": [],
            "source": []
        }
    ],
    "metadata": {
        "kernelspec": {
            "display_name": "Python 3.8",
            "language": "python",
            "name": "python38"
        },
        "language_info": {
            "codemirror_mode": {
                "name": "ipython",
                "version": 3
            },
            "file_extension": ".py",
            "mimetype": "text\/x-python",
            "name": "python",
            "nbconvert_exporter": "python",
            "pygments_lexer": "ipython3",
            "version": "3.8.7"
        }
    },
    "nbformat": 4,
    "nbformat_minor": 2
}